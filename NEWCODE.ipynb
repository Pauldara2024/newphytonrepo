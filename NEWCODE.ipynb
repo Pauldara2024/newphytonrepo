{
  "nbformat": 4,
  "nbformat_minor": 0,
  "metadata": {
    "colab": {
      "provenance": [],
      "authorship_tag": "ABX9TyNkcnfHpdcq5yxcj9Gg339f"
    },
    "kernelspec": {
      "name": "python3",
      "display_name": "Python 3"
    },
    "language_info": {
      "name": "python"
    }
  },
  "cells": [
    {
      "cell_type": "code",
      "execution_count": 1,
      "metadata": {
        "colab": {
          "base_uri": "https://localhost:8080/"
        },
        "id": "g4cDkhQ06k-S",
        "outputId": "a56d7037-6f76-4e0c-979b-e38cb8f5e913"
      },
      "outputs": [
        {
          "output_type": "stream",
          "name": "stdout",
          "text": [
            "Hello, Stephen\n",
            "25\n"
          ]
        }
      ],
      "source": [
        "print(\"Hello, Stephen\");\n",
        "#Print 25\n",
        "#I am learning Python\n",
        "#It's high level Programming Langague\n",
        "print(25)"
      ]
    }
  ]
}